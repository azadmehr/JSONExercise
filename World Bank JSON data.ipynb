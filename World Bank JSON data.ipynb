{
 "cells": [
  {
   "cell_type": "markdown",
   "metadata": {},
   "source": [
    "## JSON exercise\n",
    "    Using data in file 'data/world_bank_projects.json' and the techniques demonstrated above,\n",
    "\n",
    "    1. Find the 10 countries with most projects\n",
    "    2. Find the top 10 major project themes (using column 'mjtheme_namecode')\n",
    "    3. In 2. above you will notice that some entries have only the code and the name is missing. Create a dataframe with the missing names filled in."
   ]
  },
  {
   "cell_type": "code",
   "execution_count": 47,
   "metadata": {
    "collapsed": true
   },
   "outputs": [],
   "source": [
    "import os\n",
    "from pandas.io.json import json_normalize\n",
    "import pandas as pd\n",
    "import json\n",
    "import numpy as np"
   ]
  },
  {
   "cell_type": "code",
   "execution_count": 48,
   "metadata": {
    "collapsed": true
   },
   "outputs": [],
   "source": [
    "data_json = json.load((open('/Users/alizadmehr/Documents/data_wrangling_json/data/world_bank_projects.json')))\n",
    "DJN = json_normalize(data_json)"
   ]
  },
  {
   "cell_type": "code",
   "execution_count": 49,
   "metadata": {
    "collapsed": true
   },
   "outputs": [],
   "source": [
    "dataQ1 = DJN[['countryname','project_name']].groupby('countryname').agg('count')"
   ]
  },
  {
   "cell_type": "code",
   "execution_count": 50,
   "metadata": {
    "collapsed": true
   },
   "outputs": [],
   "source": [
    "dataQ1Sorted = dataQ1.sort_values('project_name', ascending=False, inplace=False)"
   ]
  },
  {
   "cell_type": "markdown",
   "metadata": {},
   "source": [
    "## 1. Find the 10 countries with most projects"
   ]
  },
  {
   "cell_type": "code",
   "execution_count": 51,
   "metadata": {
    "scrolled": true
   },
   "outputs": [
    {
     "data": {
      "text/html": [
       "<div>\n",
       "<style>\n",
       "    .dataframe thead tr:only-child th {\n",
       "        text-align: right;\n",
       "    }\n",
       "\n",
       "    .dataframe thead th {\n",
       "        text-align: left;\n",
       "    }\n",
       "\n",
       "    .dataframe tbody tr th {\n",
       "        vertical-align: top;\n",
       "    }\n",
       "</style>\n",
       "<table border=\"1\" class=\"dataframe\">\n",
       "  <thead>\n",
       "    <tr style=\"text-align: right;\">\n",
       "      <th></th>\n",
       "      <th>project_name</th>\n",
       "    </tr>\n",
       "    <tr>\n",
       "      <th>countryname</th>\n",
       "      <th></th>\n",
       "    </tr>\n",
       "  </thead>\n",
       "  <tbody>\n",
       "    <tr>\n",
       "      <th>People's Republic of China</th>\n",
       "      <td>19</td>\n",
       "    </tr>\n",
       "    <tr>\n",
       "      <th>Republic of Indonesia</th>\n",
       "      <td>19</td>\n",
       "    </tr>\n",
       "    <tr>\n",
       "      <th>Socialist Republic of Vietnam</th>\n",
       "      <td>17</td>\n",
       "    </tr>\n",
       "    <tr>\n",
       "      <th>Republic of India</th>\n",
       "      <td>16</td>\n",
       "    </tr>\n",
       "    <tr>\n",
       "      <th>Republic of Yemen</th>\n",
       "      <td>13</td>\n",
       "    </tr>\n",
       "    <tr>\n",
       "      <th>People's Republic of Bangladesh</th>\n",
       "      <td>12</td>\n",
       "    </tr>\n",
       "    <tr>\n",
       "      <th>Nepal</th>\n",
       "      <td>12</td>\n",
       "    </tr>\n",
       "    <tr>\n",
       "      <th>Kingdom of Morocco</th>\n",
       "      <td>12</td>\n",
       "    </tr>\n",
       "    <tr>\n",
       "      <th>Republic of Mozambique</th>\n",
       "      <td>11</td>\n",
       "    </tr>\n",
       "    <tr>\n",
       "      <th>Africa</th>\n",
       "      <td>11</td>\n",
       "    </tr>\n",
       "  </tbody>\n",
       "</table>\n",
       "</div>"
      ],
      "text/plain": [
       "                                 project_name\n",
       "countryname                                  \n",
       "People's Republic of China                 19\n",
       "Republic of Indonesia                      19\n",
       "Socialist Republic of Vietnam              17\n",
       "Republic of India                          16\n",
       "Republic of Yemen                          13\n",
       "People's Republic of Bangladesh            12\n",
       "Nepal                                      12\n",
       "Kingdom of Morocco                         12\n",
       "Republic of Mozambique                     11\n",
       "Africa                                     11"
      ]
     },
     "execution_count": 51,
     "metadata": {},
     "output_type": "execute_result"
    }
   ],
   "source": [
    "dataQ1Sorted.head(10)"
   ]
  },
  {
   "cell_type": "markdown",
   "metadata": {},
   "source": [
    "## 2. Find the top 10 major project themes (using column 'mjtheme_namecode')\n",
    "## &\n",
    "## 3. In 2. above you will notice that some entries have only the code and the name is missing. Create a dataframe with the missing names filled in."
   ]
  },
  {
   "cell_type": "code",
   "execution_count": 52,
   "metadata": {},
   "outputs": [
    {
     "data": {
      "text/plain": [
       "pandas.core.frame.DataFrame"
      ]
     },
     "execution_count": 52,
     "metadata": {},
     "output_type": "execute_result"
    }
   ],
   "source": [
    "type(DJN)"
   ]
  },
  {
   "cell_type": "code",
   "execution_count": 53,
   "metadata": {},
   "outputs": [
    {
     "data": {
      "text/plain": [
       "Index(['_id.$oid', 'approvalfy', 'board_approval_month', 'boardapprovaldate',\n",
       "       'borrower', 'closingdate', 'country_namecode', 'countrycode',\n",
       "       'countryname', 'countryshortname', 'docty', 'envassesmentcategorycode',\n",
       "       'grantamt', 'ibrdcommamt', 'id', 'idacommamt', 'impagency',\n",
       "       'lendinginstr', 'lendinginstrtype', 'lendprojectcost',\n",
       "       'majorsector_percent', 'mjsector_namecode', 'mjtheme',\n",
       "       'mjtheme_namecode', 'mjthemecode', 'prodline', 'prodlinetext',\n",
       "       'productlinetype', 'project_abstract.cdata', 'project_name',\n",
       "       'projectdocs', 'projectfinancialtype', 'projectstatusdisplay',\n",
       "       'regionname', 'sector', 'sector1.Name', 'sector1.Percent',\n",
       "       'sector2.Name', 'sector2.Percent', 'sector3.Name', 'sector3.Percent',\n",
       "       'sector4.Name', 'sector4.Percent', 'sector_namecode', 'sectorcode',\n",
       "       'source', 'status', 'supplementprojectflg', 'theme1.Name',\n",
       "       'theme1.Percent', 'theme_namecode', 'themecode', 'totalamt',\n",
       "       'totalcommamt', 'url'],\n",
       "      dtype='object')"
      ]
     },
     "execution_count": 53,
     "metadata": {},
     "output_type": "execute_result"
    }
   ],
   "source": [
    "DJN.columns"
   ]
  },
  {
   "cell_type": "code",
   "execution_count": 54,
   "metadata": {
    "collapsed": true
   },
   "outputs": [],
   "source": [
    "DJNTheme = DJN[['mjtheme_namecode','_id.$oid']]"
   ]
  },
  {
   "cell_type": "code",
   "execution_count": 55,
   "metadata": {},
   "outputs": [
    {
     "data": {
      "text/html": [
       "<div>\n",
       "<style>\n",
       "    .dataframe thead tr:only-child th {\n",
       "        text-align: right;\n",
       "    }\n",
       "\n",
       "    .dataframe thead th {\n",
       "        text-align: left;\n",
       "    }\n",
       "\n",
       "    .dataframe tbody tr th {\n",
       "        vertical-align: top;\n",
       "    }\n",
       "</style>\n",
       "<table border=\"1\" class=\"dataframe\">\n",
       "  <thead>\n",
       "    <tr style=\"text-align: right;\">\n",
       "      <th></th>\n",
       "      <th>mjtheme_namecode</th>\n",
       "      <th>_id.$oid</th>\n",
       "    </tr>\n",
       "  </thead>\n",
       "  <tbody>\n",
       "    <tr>\n",
       "      <th>0</th>\n",
       "      <td>[{'code': '8', 'name': 'Human development'}, {...</td>\n",
       "      <td>52b213b38594d8a2be17c780</td>\n",
       "    </tr>\n",
       "  </tbody>\n",
       "</table>\n",
       "</div>"
      ],
      "text/plain": [
       "                                    mjtheme_namecode                  _id.$oid\n",
       "0  [{'code': '8', 'name': 'Human development'}, {...  52b213b38594d8a2be17c780"
      ]
     },
     "execution_count": 55,
     "metadata": {},
     "output_type": "execute_result"
    }
   ],
   "source": [
    "DJNTheme.head(1)"
   ]
  },
  {
   "cell_type": "code",
   "execution_count": 56,
   "metadata": {},
   "outputs": [],
   "source": [
    "LIST = []\n",
    "\n",
    "for ids , row in DJNTheme.iterrows():\n",
    "    ThemeCode = row['mjtheme_namecode']\n",
    "    ID = (row['_id.$oid'])\n",
    "    for i in ThemeCode:\n",
    "        i['ID']= ID\n",
    "        LIST.append(i)"
   ]
  },
  {
   "cell_type": "code",
   "execution_count": 57,
   "metadata": {},
   "outputs": [
    {
     "name": "stdout",
     "output_type": "stream",
     "text": [
      "                         ID code                                   name\n",
      "0  52b213b38594d8a2be17c780    8                      Human development\n",
      "1  52b213b38594d8a2be17c780   11                                       \n",
      "2  52b213b38594d8a2be17c781    1                    Economic management\n",
      "3  52b213b38594d8a2be17c781    6  Social protection and risk management\n",
      "4  52b213b38594d8a2be17c782    5                  Trade and integration\n"
     ]
    }
   ],
   "source": [
    "ThemeID = json_normalize(LIST)\n",
    "print(ThemeID.head(5))"
   ]
  },
  {
   "cell_type": "code",
   "execution_count": 58,
   "metadata": {},
   "outputs": [],
   "source": [
    "ThemeID = ThemeID.set_index('ID')"
   ]
  },
  {
   "cell_type": "code",
   "execution_count": 59,
   "metadata": {},
   "outputs": [
    {
     "name": "stdout",
     "output_type": "stream",
     "text": [
      "{'8': 'Human development', '11': 'Environment and natural resources management', '1': '', '6': '', '5': 'Trade and integration', '2': 'Public sector governance', '7': 'Social dev/gender/inclusion', '4': 'Financial and private sector development', '10': 'Rural development', '9': 'Urban development', '3': 'Rule of law'}\n"
     ]
    }
   ],
   "source": [
    "ThemeDict = pd.Series(ThemeID.name.values,index=ThemeID.code).to_dict()\n",
    "print(ThemeDict)"
   ]
  },
  {
   "cell_type": "code",
   "execution_count": 60,
   "metadata": {},
   "outputs": [],
   "source": [
    "ThemeDict[\"1\"] = \"Economic management\"\n",
    "ThemeDict[\"6\"] =\"Social protection and risk management\""
   ]
  },
  {
   "cell_type": "code",
   "execution_count": 61,
   "metadata": {},
   "outputs": [
    {
     "name": "stdout",
     "output_type": "stream",
     "text": [
      "{'8': 'Human development', '11': 'Environment and natural resources management', '1': 'Economic management', '6': 'Social protection and risk management', '5': 'Trade and integration', '2': 'Public sector governance', '7': 'Social dev/gender/inclusion', '4': 'Financial and private sector development', '10': 'Rural development', '9': 'Urban development', '3': 'Rule of law'}\n"
     ]
    }
   ],
   "source": [
    "print(ThemeDict)"
   ]
  },
  {
   "cell_type": "code",
   "execution_count": 62,
   "metadata": {},
   "outputs": [],
   "source": [
    "ThemeID['Name']= ThemeID['code'].map(ThemeDict)"
   ]
  },
  {
   "cell_type": "code",
   "execution_count": 63,
   "metadata": {},
   "outputs": [],
   "source": [
    "ThemeID = ThemeID.drop('name',axis=1)"
   ]
  },
  {
   "cell_type": "code",
   "execution_count": 93,
   "metadata": {},
   "outputs": [
    {
     "name": "stdout",
     "output_type": "stream",
     "text": [
      "                                              code\n",
      "Name                                              \n",
      "Environment and natural resources management   250\n",
      "Rural development                              216\n",
      "Human development                              210\n",
      "Public sector governance                       199\n",
      "Social protection and risk management          168\n",
      "Financial and private sector development       146\n",
      "Social dev/gender/inclusion                    130\n",
      "Trade and integration                           77\n",
      "Urban development                               50\n",
      "Economic management                             38\n"
     ]
    }
   ],
   "source": [
    "## Answer to #2\n",
    "ThemeCounts = ThemeID.groupby('Name').agg('count').sort_values('code',ascending=False).head(10)\n",
    "print(ThemeCounts)"
   ]
  },
  {
   "cell_type": "code",
   "execution_count": 92,
   "metadata": {},
   "outputs": [
    {
     "data": {
      "text/html": [
       "<div>\n",
       "<style>\n",
       "    .dataframe thead tr:only-child th {\n",
       "        text-align: right;\n",
       "    }\n",
       "\n",
       "    .dataframe thead th {\n",
       "        text-align: left;\n",
       "    }\n",
       "\n",
       "    .dataframe tbody tr th {\n",
       "        vertical-align: top;\n",
       "    }\n",
       "</style>\n",
       "<table border=\"1\" class=\"dataframe\">\n",
       "  <thead>\n",
       "    <tr style=\"text-align: right;\">\n",
       "      <th></th>\n",
       "      <th>code</th>\n",
       "      <th>Name</th>\n",
       "    </tr>\n",
       "    <tr>\n",
       "      <th>ID</th>\n",
       "      <th></th>\n",
       "      <th></th>\n",
       "    </tr>\n",
       "  </thead>\n",
       "  <tbody>\n",
       "    <tr>\n",
       "      <th>52b213b38594d8a2be17c780</th>\n",
       "      <td>8</td>\n",
       "      <td>Human development</td>\n",
       "    </tr>\n",
       "    <tr>\n",
       "      <th>52b213b38594d8a2be17c780</th>\n",
       "      <td>11</td>\n",
       "      <td>Environment and natural resources management</td>\n",
       "    </tr>\n",
       "    <tr>\n",
       "      <th>52b213b38594d8a2be17c781</th>\n",
       "      <td>1</td>\n",
       "      <td>Economic management</td>\n",
       "    </tr>\n",
       "    <tr>\n",
       "      <th>52b213b38594d8a2be17c781</th>\n",
       "      <td>6</td>\n",
       "      <td>Social protection and risk management</td>\n",
       "    </tr>\n",
       "    <tr>\n",
       "      <th>52b213b38594d8a2be17c782</th>\n",
       "      <td>5</td>\n",
       "      <td>Trade and integration</td>\n",
       "    </tr>\n",
       "    <tr>\n",
       "      <th>52b213b38594d8a2be17c782</th>\n",
       "      <td>2</td>\n",
       "      <td>Public sector governance</td>\n",
       "    </tr>\n",
       "    <tr>\n",
       "      <th>52b213b38594d8a2be17c782</th>\n",
       "      <td>11</td>\n",
       "      <td>Environment and natural resources management</td>\n",
       "    </tr>\n",
       "    <tr>\n",
       "      <th>52b213b38594d8a2be17c782</th>\n",
       "      <td>6</td>\n",
       "      <td>Social protection and risk management</td>\n",
       "    </tr>\n",
       "    <tr>\n",
       "      <th>52b213b38594d8a2be17c783</th>\n",
       "      <td>7</td>\n",
       "      <td>Social dev/gender/inclusion</td>\n",
       "    </tr>\n",
       "    <tr>\n",
       "      <th>52b213b38594d8a2be17c783</th>\n",
       "      <td>7</td>\n",
       "      <td>Social dev/gender/inclusion</td>\n",
       "    </tr>\n",
       "    <tr>\n",
       "      <th>52b213b38594d8a2be17c784</th>\n",
       "      <td>5</td>\n",
       "      <td>Trade and integration</td>\n",
       "    </tr>\n",
       "    <tr>\n",
       "      <th>52b213b38594d8a2be17c784</th>\n",
       "      <td>4</td>\n",
       "      <td>Financial and private sector development</td>\n",
       "    </tr>\n",
       "    <tr>\n",
       "      <th>52b213b38594d8a2be17c785</th>\n",
       "      <td>6</td>\n",
       "      <td>Social protection and risk management</td>\n",
       "    </tr>\n",
       "    <tr>\n",
       "      <th>52b213b38594d8a2be17c785</th>\n",
       "      <td>6</td>\n",
       "      <td>Social protection and risk management</td>\n",
       "    </tr>\n",
       "    <tr>\n",
       "      <th>52b213b38594d8a2be17c786</th>\n",
       "      <td>2</td>\n",
       "      <td>Public sector governance</td>\n",
       "    </tr>\n",
       "    <tr>\n",
       "      <th>52b213b38594d8a2be17c786</th>\n",
       "      <td>4</td>\n",
       "      <td>Financial and private sector development</td>\n",
       "    </tr>\n",
       "    <tr>\n",
       "      <th>52b213b38594d8a2be17c787</th>\n",
       "      <td>11</td>\n",
       "      <td>Environment and natural resources management</td>\n",
       "    </tr>\n",
       "    <tr>\n",
       "      <th>52b213b38594d8a2be17c787</th>\n",
       "      <td>8</td>\n",
       "      <td>Human development</td>\n",
       "    </tr>\n",
       "    <tr>\n",
       "      <th>52b213b38594d8a2be17c788</th>\n",
       "      <td>10</td>\n",
       "      <td>Rural development</td>\n",
       "    </tr>\n",
       "    <tr>\n",
       "      <th>52b213b38594d8a2be17c788</th>\n",
       "      <td>7</td>\n",
       "      <td>Social dev/gender/inclusion</td>\n",
       "    </tr>\n",
       "    <tr>\n",
       "      <th>52b213b38594d8a2be17c789</th>\n",
       "      <td>2</td>\n",
       "      <td>Public sector governance</td>\n",
       "    </tr>\n",
       "    <tr>\n",
       "      <th>52b213b38594d8a2be17c789</th>\n",
       "      <td>2</td>\n",
       "      <td>Public sector governance</td>\n",
       "    </tr>\n",
       "    <tr>\n",
       "      <th>52b213b38594d8a2be17c789</th>\n",
       "      <td>2</td>\n",
       "      <td>Public sector governance</td>\n",
       "    </tr>\n",
       "    <tr>\n",
       "      <th>52b213b38594d8a2be17c78a</th>\n",
       "      <td>10</td>\n",
       "      <td>Rural development</td>\n",
       "    </tr>\n",
       "    <tr>\n",
       "      <th>52b213b38594d8a2be17c78a</th>\n",
       "      <td>2</td>\n",
       "      <td>Public sector governance</td>\n",
       "    </tr>\n",
       "    <tr>\n",
       "      <th>52b213b38594d8a2be17c78b</th>\n",
       "      <td>10</td>\n",
       "      <td>Rural development</td>\n",
       "    </tr>\n",
       "    <tr>\n",
       "      <th>52b213b38594d8a2be17c78b</th>\n",
       "      <td>6</td>\n",
       "      <td>Social protection and risk management</td>\n",
       "    </tr>\n",
       "    <tr>\n",
       "      <th>52b213b38594d8a2be17c78b</th>\n",
       "      <td>6</td>\n",
       "      <td>Social protection and risk management</td>\n",
       "    </tr>\n",
       "    <tr>\n",
       "      <th>52b213b38594d8a2be17c78b</th>\n",
       "      <td>11</td>\n",
       "      <td>Environment and natural resources management</td>\n",
       "    </tr>\n",
       "    <tr>\n",
       "      <th>52b213b38594d8a2be17c78c</th>\n",
       "      <td>4</td>\n",
       "      <td>Financial and private sector development</td>\n",
       "    </tr>\n",
       "    <tr>\n",
       "      <th>...</th>\n",
       "      <td>...</td>\n",
       "      <td>...</td>\n",
       "    </tr>\n",
       "    <tr>\n",
       "      <th>52b213b38594d8a2be17c968</th>\n",
       "      <td>8</td>\n",
       "      <td>Human development</td>\n",
       "    </tr>\n",
       "    <tr>\n",
       "      <th>52b213b38594d8a2be17c969</th>\n",
       "      <td>9</td>\n",
       "      <td>Urban development</td>\n",
       "    </tr>\n",
       "    <tr>\n",
       "      <th>52b213b38594d8a2be17c969</th>\n",
       "      <td>6</td>\n",
       "      <td>Social protection and risk management</td>\n",
       "    </tr>\n",
       "    <tr>\n",
       "      <th>52b213b38594d8a2be17c969</th>\n",
       "      <td>6</td>\n",
       "      <td>Social protection and risk management</td>\n",
       "    </tr>\n",
       "    <tr>\n",
       "      <th>52b213b38594d8a2be17c969</th>\n",
       "      <td>9</td>\n",
       "      <td>Urban development</td>\n",
       "    </tr>\n",
       "    <tr>\n",
       "      <th>52b213b38594d8a2be17c96a</th>\n",
       "      <td>2</td>\n",
       "      <td>Public sector governance</td>\n",
       "    </tr>\n",
       "    <tr>\n",
       "      <th>52b213b38594d8a2be17c96a</th>\n",
       "      <td>2</td>\n",
       "      <td>Public sector governance</td>\n",
       "    </tr>\n",
       "    <tr>\n",
       "      <th>52b213b38594d8a2be17c96b</th>\n",
       "      <td>10</td>\n",
       "      <td>Rural development</td>\n",
       "    </tr>\n",
       "    <tr>\n",
       "      <th>52b213b38594d8a2be17c96b</th>\n",
       "      <td>11</td>\n",
       "      <td>Environment and natural resources management</td>\n",
       "    </tr>\n",
       "    <tr>\n",
       "      <th>52b213b38594d8a2be17c96c</th>\n",
       "      <td>8</td>\n",
       "      <td>Human development</td>\n",
       "    </tr>\n",
       "    <tr>\n",
       "      <th>52b213b38594d8a2be17c96c</th>\n",
       "      <td>7</td>\n",
       "      <td>Social dev/gender/inclusion</td>\n",
       "    </tr>\n",
       "    <tr>\n",
       "      <th>52b213b38594d8a2be17c96d</th>\n",
       "      <td>11</td>\n",
       "      <td>Environment and natural resources management</td>\n",
       "    </tr>\n",
       "    <tr>\n",
       "      <th>52b213b38594d8a2be17c96d</th>\n",
       "      <td>5</td>\n",
       "      <td>Trade and integration</td>\n",
       "    </tr>\n",
       "    <tr>\n",
       "      <th>52b213b38594d8a2be17c96e</th>\n",
       "      <td>6</td>\n",
       "      <td>Social protection and risk management</td>\n",
       "    </tr>\n",
       "    <tr>\n",
       "      <th>52b213b38594d8a2be17c96e</th>\n",
       "      <td>8</td>\n",
       "      <td>Human development</td>\n",
       "    </tr>\n",
       "    <tr>\n",
       "      <th>52b213b38594d8a2be17c96f</th>\n",
       "      <td>4</td>\n",
       "      <td>Financial and private sector development</td>\n",
       "    </tr>\n",
       "    <tr>\n",
       "      <th>52b213b38594d8a2be17c96f</th>\n",
       "      <td>7</td>\n",
       "      <td>Social dev/gender/inclusion</td>\n",
       "    </tr>\n",
       "    <tr>\n",
       "      <th>52b213b38594d8a2be17c970</th>\n",
       "      <td>8</td>\n",
       "      <td>Human development</td>\n",
       "    </tr>\n",
       "    <tr>\n",
       "      <th>52b213b38594d8a2be17c970</th>\n",
       "      <td>5</td>\n",
       "      <td>Trade and integration</td>\n",
       "    </tr>\n",
       "    <tr>\n",
       "      <th>52b213b38594d8a2be17c970</th>\n",
       "      <td>2</td>\n",
       "      <td>Public sector governance</td>\n",
       "    </tr>\n",
       "    <tr>\n",
       "      <th>52b213b38594d8a2be17c970</th>\n",
       "      <td>8</td>\n",
       "      <td>Human development</td>\n",
       "    </tr>\n",
       "    <tr>\n",
       "      <th>52b213b38594d8a2be17c971</th>\n",
       "      <td>10</td>\n",
       "      <td>Rural development</td>\n",
       "    </tr>\n",
       "    <tr>\n",
       "      <th>52b213b38594d8a2be17c971</th>\n",
       "      <td>6</td>\n",
       "      <td>Social protection and risk management</td>\n",
       "    </tr>\n",
       "    <tr>\n",
       "      <th>52b213b38594d8a2be17c972</th>\n",
       "      <td>10</td>\n",
       "      <td>Rural development</td>\n",
       "    </tr>\n",
       "    <tr>\n",
       "      <th>52b213b38594d8a2be17c972</th>\n",
       "      <td>10</td>\n",
       "      <td>Rural development</td>\n",
       "    </tr>\n",
       "    <tr>\n",
       "      <th>52b213b38594d8a2be17c972</th>\n",
       "      <td>10</td>\n",
       "      <td>Rural development</td>\n",
       "    </tr>\n",
       "    <tr>\n",
       "      <th>52b213b38594d8a2be17c973</th>\n",
       "      <td>9</td>\n",
       "      <td>Urban development</td>\n",
       "    </tr>\n",
       "    <tr>\n",
       "      <th>52b213b38594d8a2be17c973</th>\n",
       "      <td>8</td>\n",
       "      <td>Human development</td>\n",
       "    </tr>\n",
       "    <tr>\n",
       "      <th>52b213b38594d8a2be17c973</th>\n",
       "      <td>5</td>\n",
       "      <td>Trade and integration</td>\n",
       "    </tr>\n",
       "    <tr>\n",
       "      <th>52b213b38594d8a2be17c973</th>\n",
       "      <td>4</td>\n",
       "      <td>Financial and private sector development</td>\n",
       "    </tr>\n",
       "  </tbody>\n",
       "</table>\n",
       "<p>1499 rows × 2 columns</p>\n",
       "</div>"
      ],
      "text/plain": [
       "                         code                                          Name\n",
       "ID                                                                         \n",
       "52b213b38594d8a2be17c780    8                             Human development\n",
       "52b213b38594d8a2be17c780   11  Environment and natural resources management\n",
       "52b213b38594d8a2be17c781    1                           Economic management\n",
       "52b213b38594d8a2be17c781    6         Social protection and risk management\n",
       "52b213b38594d8a2be17c782    5                         Trade and integration\n",
       "52b213b38594d8a2be17c782    2                      Public sector governance\n",
       "52b213b38594d8a2be17c782   11  Environment and natural resources management\n",
       "52b213b38594d8a2be17c782    6         Social protection and risk management\n",
       "52b213b38594d8a2be17c783    7                   Social dev/gender/inclusion\n",
       "52b213b38594d8a2be17c783    7                   Social dev/gender/inclusion\n",
       "52b213b38594d8a2be17c784    5                         Trade and integration\n",
       "52b213b38594d8a2be17c784    4      Financial and private sector development\n",
       "52b213b38594d8a2be17c785    6         Social protection and risk management\n",
       "52b213b38594d8a2be17c785    6         Social protection and risk management\n",
       "52b213b38594d8a2be17c786    2                      Public sector governance\n",
       "52b213b38594d8a2be17c786    4      Financial and private sector development\n",
       "52b213b38594d8a2be17c787   11  Environment and natural resources management\n",
       "52b213b38594d8a2be17c787    8                             Human development\n",
       "52b213b38594d8a2be17c788   10                             Rural development\n",
       "52b213b38594d8a2be17c788    7                   Social dev/gender/inclusion\n",
       "52b213b38594d8a2be17c789    2                      Public sector governance\n",
       "52b213b38594d8a2be17c789    2                      Public sector governance\n",
       "52b213b38594d8a2be17c789    2                      Public sector governance\n",
       "52b213b38594d8a2be17c78a   10                             Rural development\n",
       "52b213b38594d8a2be17c78a    2                      Public sector governance\n",
       "52b213b38594d8a2be17c78b   10                             Rural development\n",
       "52b213b38594d8a2be17c78b    6         Social protection and risk management\n",
       "52b213b38594d8a2be17c78b    6         Social protection and risk management\n",
       "52b213b38594d8a2be17c78b   11  Environment and natural resources management\n",
       "52b213b38594d8a2be17c78c    4      Financial and private sector development\n",
       "...                       ...                                           ...\n",
       "52b213b38594d8a2be17c968    8                             Human development\n",
       "52b213b38594d8a2be17c969    9                             Urban development\n",
       "52b213b38594d8a2be17c969    6         Social protection and risk management\n",
       "52b213b38594d8a2be17c969    6         Social protection and risk management\n",
       "52b213b38594d8a2be17c969    9                             Urban development\n",
       "52b213b38594d8a2be17c96a    2                      Public sector governance\n",
       "52b213b38594d8a2be17c96a    2                      Public sector governance\n",
       "52b213b38594d8a2be17c96b   10                             Rural development\n",
       "52b213b38594d8a2be17c96b   11  Environment and natural resources management\n",
       "52b213b38594d8a2be17c96c    8                             Human development\n",
       "52b213b38594d8a2be17c96c    7                   Social dev/gender/inclusion\n",
       "52b213b38594d8a2be17c96d   11  Environment and natural resources management\n",
       "52b213b38594d8a2be17c96d    5                         Trade and integration\n",
       "52b213b38594d8a2be17c96e    6         Social protection and risk management\n",
       "52b213b38594d8a2be17c96e    8                             Human development\n",
       "52b213b38594d8a2be17c96f    4      Financial and private sector development\n",
       "52b213b38594d8a2be17c96f    7                   Social dev/gender/inclusion\n",
       "52b213b38594d8a2be17c970    8                             Human development\n",
       "52b213b38594d8a2be17c970    5                         Trade and integration\n",
       "52b213b38594d8a2be17c970    2                      Public sector governance\n",
       "52b213b38594d8a2be17c970    8                             Human development\n",
       "52b213b38594d8a2be17c971   10                             Rural development\n",
       "52b213b38594d8a2be17c971    6         Social protection and risk management\n",
       "52b213b38594d8a2be17c972   10                             Rural development\n",
       "52b213b38594d8a2be17c972   10                             Rural development\n",
       "52b213b38594d8a2be17c972   10                             Rural development\n",
       "52b213b38594d8a2be17c973    9                             Urban development\n",
       "52b213b38594d8a2be17c973    8                             Human development\n",
       "52b213b38594d8a2be17c973    5                         Trade and integration\n",
       "52b213b38594d8a2be17c973    4      Financial and private sector development\n",
       "\n",
       "[1499 rows x 2 columns]"
      ]
     },
     "execution_count": 92,
     "metadata": {},
     "output_type": "execute_result"
    }
   ],
   "source": [
    "## Answer to #3\n",
    "ThemeID"
   ]
  },
  {
   "cell_type": "code",
   "execution_count": 90,
   "metadata": {},
   "outputs": [],
   "source": [
    "#total = 0\n",
    " \n",
    "#for ids , row in DJNTheme.iterrows():\n",
    "#    ID = (row['_id.$oid'])\n",
    "#    ThemeCode = row['mjtheme_namecode']\n",
    "#    n = len(ThemeCode) \n",
    "#    total += n\n",
    "#print(total)"
   ]
  }
 ],
 "metadata": {
  "kernelspec": {
   "display_name": "Python 3",
   "language": "python",
   "name": "python3"
  },
  "language_info": {
   "codemirror_mode": {
    "name": "ipython",
    "version": 3
   },
   "file_extension": ".py",
   "mimetype": "text/x-python",
   "name": "python",
   "nbconvert_exporter": "python",
   "pygments_lexer": "ipython3",
   "version": "3.6.3"
  }
 },
 "nbformat": 4,
 "nbformat_minor": 2
}
